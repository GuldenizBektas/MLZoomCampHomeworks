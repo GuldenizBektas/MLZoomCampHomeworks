{
 "cells": [
  {
   "cell_type": "markdown",
   "id": "7d413901-7cc9-43c1-a37d-416a3a643837",
   "metadata": {},
   "source": [
    "### Get the dataset"
   ]
  },
  {
   "cell_type": "code",
   "execution_count": 1,
   "id": "f1c59dcf-b78e-461f-bdc3-f2171de479b7",
   "metadata": {},
   "outputs": [
    {
     "name": "stdout",
     "output_type": "stream",
     "text": [
      "--2021-09-19 17:58:06--  https://raw.githubusercontent.com/alexeygrigorev/datasets/master/AB_NYC_2019.csv\n",
      "raw.githubusercontent.com (raw.githubusercontent.com) çözümleniyor... 185.199.108.133, 185.199.110.133, 185.199.111.133, ...\n",
      "raw.githubusercontent.com (raw.githubusercontent.com)|185.199.108.133|:443 bağlanılıyor... bağlantı kuruldu.\n",
      "HTTP isteği gönderildi, cevap bekleniyor... 200 OK\n",
      "Uzunluk: 7077973 (6,8M) [text/plain]\n",
      "Kayıt yeri: `AB_NYC_2019.csv'\n",
      "\n",
      "AB_NYC_2019.csv     100%[===================>]   6,75M  1000KB/s    süre 6,8s  \n",
      "\n",
      "2021-09-19 17:58:14 (1011 KB/s) - `AB_NYC_2019.csv' kaydedildi [7077973/7077973]\n",
      "\n"
     ]
    }
   ],
   "source": [
    "!wget https://raw.githubusercontent.com/alexeygrigorev/datasets/master/AB_NYC_2019.csv"
   ]
  },
  {
   "cell_type": "markdown",
   "id": "5b9d8d62-a835-4dcf-b60e-48efed7ad76d",
   "metadata": {},
   "source": [
    "### EDA\n",
    "- Load the data\n",
    "- Look at `price` variable. Does it have a long tail?"
   ]
  },
  {
   "cell_type": "code",
   "execution_count": 1,
   "id": "8a574235-790a-429e-90aa-9d6fe182a286",
   "metadata": {},
   "outputs": [
    {
     "data": {
      "text/html": [
       "<div>\n",
       "<style scoped>\n",
       "    .dataframe tbody tr th:only-of-type {\n",
       "        vertical-align: middle;\n",
       "    }\n",
       "\n",
       "    .dataframe tbody tr th {\n",
       "        vertical-align: top;\n",
       "    }\n",
       "\n",
       "    .dataframe thead th {\n",
       "        text-align: right;\n",
       "    }\n",
       "</style>\n",
       "<table border=\"1\" class=\"dataframe\">\n",
       "  <thead>\n",
       "    <tr style=\"text-align: right;\">\n",
       "      <th></th>\n",
       "      <th>id</th>\n",
       "      <th>name</th>\n",
       "      <th>host_id</th>\n",
       "      <th>host_name</th>\n",
       "      <th>neighbourhood_group</th>\n",
       "      <th>neighbourhood</th>\n",
       "      <th>latitude</th>\n",
       "      <th>longitude</th>\n",
       "      <th>room_type</th>\n",
       "      <th>price</th>\n",
       "      <th>minimum_nights</th>\n",
       "      <th>number_of_reviews</th>\n",
       "      <th>last_review</th>\n",
       "      <th>reviews_per_month</th>\n",
       "      <th>calculated_host_listings_count</th>\n",
       "      <th>availability_365</th>\n",
       "    </tr>\n",
       "  </thead>\n",
       "  <tbody>\n",
       "    <tr>\n",
       "      <th>0</th>\n",
       "      <td>2539</td>\n",
       "      <td>Clean &amp; quiet apt home by the park</td>\n",
       "      <td>2787</td>\n",
       "      <td>John</td>\n",
       "      <td>Brooklyn</td>\n",
       "      <td>Kensington</td>\n",
       "      <td>40.64749</td>\n",
       "      <td>-73.97237</td>\n",
       "      <td>Private room</td>\n",
       "      <td>149</td>\n",
       "      <td>1</td>\n",
       "      <td>9</td>\n",
       "      <td>2018-10-19</td>\n",
       "      <td>0.21</td>\n",
       "      <td>6</td>\n",
       "      <td>365</td>\n",
       "    </tr>\n",
       "    <tr>\n",
       "      <th>1</th>\n",
       "      <td>2595</td>\n",
       "      <td>Skylit Midtown Castle</td>\n",
       "      <td>2845</td>\n",
       "      <td>Jennifer</td>\n",
       "      <td>Manhattan</td>\n",
       "      <td>Midtown</td>\n",
       "      <td>40.75362</td>\n",
       "      <td>-73.98377</td>\n",
       "      <td>Entire home/apt</td>\n",
       "      <td>225</td>\n",
       "      <td>1</td>\n",
       "      <td>45</td>\n",
       "      <td>2019-05-21</td>\n",
       "      <td>0.38</td>\n",
       "      <td>2</td>\n",
       "      <td>355</td>\n",
       "    </tr>\n",
       "    <tr>\n",
       "      <th>2</th>\n",
       "      <td>3647</td>\n",
       "      <td>THE VILLAGE OF HARLEM....NEW YORK !</td>\n",
       "      <td>4632</td>\n",
       "      <td>Elisabeth</td>\n",
       "      <td>Manhattan</td>\n",
       "      <td>Harlem</td>\n",
       "      <td>40.80902</td>\n",
       "      <td>-73.94190</td>\n",
       "      <td>Private room</td>\n",
       "      <td>150</td>\n",
       "      <td>3</td>\n",
       "      <td>0</td>\n",
       "      <td>NaN</td>\n",
       "      <td>NaN</td>\n",
       "      <td>1</td>\n",
       "      <td>365</td>\n",
       "    </tr>\n",
       "    <tr>\n",
       "      <th>3</th>\n",
       "      <td>3831</td>\n",
       "      <td>Cozy Entire Floor of Brownstone</td>\n",
       "      <td>4869</td>\n",
       "      <td>LisaRoxanne</td>\n",
       "      <td>Brooklyn</td>\n",
       "      <td>Clinton Hill</td>\n",
       "      <td>40.68514</td>\n",
       "      <td>-73.95976</td>\n",
       "      <td>Entire home/apt</td>\n",
       "      <td>89</td>\n",
       "      <td>1</td>\n",
       "      <td>270</td>\n",
       "      <td>2019-07-05</td>\n",
       "      <td>4.64</td>\n",
       "      <td>1</td>\n",
       "      <td>194</td>\n",
       "    </tr>\n",
       "    <tr>\n",
       "      <th>4</th>\n",
       "      <td>5022</td>\n",
       "      <td>Entire Apt: Spacious Studio/Loft by central park</td>\n",
       "      <td>7192</td>\n",
       "      <td>Laura</td>\n",
       "      <td>Manhattan</td>\n",
       "      <td>East Harlem</td>\n",
       "      <td>40.79851</td>\n",
       "      <td>-73.94399</td>\n",
       "      <td>Entire home/apt</td>\n",
       "      <td>80</td>\n",
       "      <td>10</td>\n",
       "      <td>9</td>\n",
       "      <td>2018-11-19</td>\n",
       "      <td>0.10</td>\n",
       "      <td>1</td>\n",
       "      <td>0</td>\n",
       "    </tr>\n",
       "  </tbody>\n",
       "</table>\n",
       "</div>"
      ],
      "text/plain": [
       "     id                                              name  host_id  \\\n",
       "0  2539                Clean & quiet apt home by the park     2787   \n",
       "1  2595                             Skylit Midtown Castle     2845   \n",
       "2  3647               THE VILLAGE OF HARLEM....NEW YORK !     4632   \n",
       "3  3831                   Cozy Entire Floor of Brownstone     4869   \n",
       "4  5022  Entire Apt: Spacious Studio/Loft by central park     7192   \n",
       "\n",
       "     host_name neighbourhood_group neighbourhood  latitude  longitude  \\\n",
       "0         John            Brooklyn    Kensington  40.64749  -73.97237   \n",
       "1     Jennifer           Manhattan       Midtown  40.75362  -73.98377   \n",
       "2    Elisabeth           Manhattan        Harlem  40.80902  -73.94190   \n",
       "3  LisaRoxanne            Brooklyn  Clinton Hill  40.68514  -73.95976   \n",
       "4        Laura           Manhattan   East Harlem  40.79851  -73.94399   \n",
       "\n",
       "         room_type  price  minimum_nights  number_of_reviews last_review  \\\n",
       "0     Private room    149               1                  9  2018-10-19   \n",
       "1  Entire home/apt    225               1                 45  2019-05-21   \n",
       "2     Private room    150               3                  0         NaN   \n",
       "3  Entire home/apt     89               1                270  2019-07-05   \n",
       "4  Entire home/apt     80              10                  9  2018-11-19   \n",
       "\n",
       "   reviews_per_month  calculated_host_listings_count  availability_365  \n",
       "0               0.21                               6               365  \n",
       "1               0.38                               2               355  \n",
       "2                NaN                               1               365  \n",
       "3               4.64                               1               194  \n",
       "4               0.10                               1                 0  "
      ]
     },
     "execution_count": 1,
     "metadata": {},
     "output_type": "execute_result"
    }
   ],
   "source": [
    "import pandas as pd\n",
    "import numpy as np\n",
    "import matplotlib.pyplot as plt\n",
    "import seaborn as sns\n",
    "plt.style.use(\"seaborn-dark\")\n",
    "\n",
    "# load the data\n",
    "data = pd.read_csv(\"AB_NYC_2019.csv\")\n",
    "\n",
    "# display 'price' variable\n",
    "data.head()"
   ]
  },
  {
   "cell_type": "code",
   "execution_count": 2,
   "id": "963dd81a-b303-4497-bf43-a6d4340c2db4",
   "metadata": {},
   "outputs": [
    {
     "data": {
      "text/plain": [
       "id                                  int64\n",
       "name                               object\n",
       "host_id                             int64\n",
       "host_name                          object\n",
       "neighbourhood_group                object\n",
       "neighbourhood                      object\n",
       "latitude                          float64\n",
       "longitude                         float64\n",
       "room_type                          object\n",
       "price                               int64\n",
       "minimum_nights                      int64\n",
       "number_of_reviews                   int64\n",
       "last_review                        object\n",
       "reviews_per_month                 float64\n",
       "calculated_host_listings_count      int64\n",
       "availability_365                    int64\n",
       "dtype: object"
      ]
     },
     "execution_count": 2,
     "metadata": {},
     "output_type": "execute_result"
    }
   ],
   "source": [
    "data.dtypes"
   ]
  },
  {
   "cell_type": "code",
   "execution_count": 3,
   "id": "624cdf9a-0918-4987-a62b-e7e554c90365",
   "metadata": {},
   "outputs": [
    {
     "name": "stdout",
     "output_type": "stream",
     "text": [
      "Max value of price 10000\n",
      "Min value of price 0\n",
      "Mean value of price 152.7206871868289\n",
      "Median value of price 106.0\n"
     ]
    }
   ],
   "source": [
    "print(\"Max value of price\", data.price.max())\n",
    "print(\"Min value of price\", data.price.min())\n",
    "print(\"Mean value of price\", data.price.mean())\n",
    "print(\"Median value of price\", data.price.median())"
   ]
  },
  {
   "cell_type": "code",
   "execution_count": 4,
   "id": "c172d9b6-6b60-48bc-8acf-e6ecbacb9f61",
   "metadata": {},
   "outputs": [
    {
     "data": {
      "image/png": "[encoded data removed]",
      "text/plain": [
       "<Figure size 432x288 with 1 Axes>"
      ]
     },
     "metadata": {},
     "output_type": "display_data"
    }
   ],
   "source": [
    "sns.color_palette(\"pastel\")\n",
    "sns.histplot(data.price, bins = 30)\n",
    "plt.xlabel(\"Price\")\n",
    "plt.ylabel(\"Count\")\n",
    "plt.title(\"Distribution of prices\");"
   ]
  },
  {
   "cell_type": "code",
   "execution_count": 5,
   "id": "80f2de15-0b03-40c8-ac08-ff6619355c82",
   "metadata": {},
   "outputs": [
    {
     "data": {
      "image/png": "[encoded data removed]",
      "text/plain": [
       "<Figure size 432x288 with 1 Axes>"
      ]
     },
     "metadata": {},
     "output_type": "display_data"
    }
   ],
   "source": [
    "sns.histplot(data.price[data.price > 1000], bins = 30)\n",
    "plt.xlabel(\"Prices more than 1000\")\n",
    "plt.ylabel(\"Count\")\n",
    "plt.title(\"Distribution of prices\");"
   ]
  },
  {
   "cell_type": "code",
   "execution_count": 6,
   "id": "d5223759-4f19-410c-8ef6-30c9fe1abc6f",
   "metadata": {},
   "outputs": [
    {
     "data": {
      "image/png": "[encoded data removed]",
      "text/plain": [
       "<Figure size 432x288 with 1 Axes>"
      ]
     },
     "metadata": {},
     "output_type": "display_data"
    }
   ],
   "source": [
    "log_price = np.log1p(data.price)\n",
    "\n",
    "sns.histplot(log_price, bins = 30)\n",
    "plt.ylabel('Frequency')\n",
    "plt.xlabel('Log(Price + 1)')\n",
    "plt.title('Distribution of prices after log tranformation');"
   ]
  },
  {
   "cell_type": "code",
   "execution_count": 7,
   "id": "26b3cd0c-be42-4bcb-bf32-448d515a107c",
   "metadata": {},
   "outputs": [],
   "source": [
    "df = data[[\"latitude\", \"longitude\", \"price\", \"minimum_nights\", \"number_of_reviews\", \n",
    "           \"calculated_host_listings_count\", \"availability_365\", \"reviews_per_month\"]]"
   ]
  },
  {
   "cell_type": "markdown",
   "id": "11315f34-e861-48a9-b924-b241a3e64b59",
   "metadata": {},
   "source": [
    "### Question 1\n",
    "\n",
    "**Number of missing values: 10.052**"
   ]
  },
  {
   "cell_type": "code",
   "execution_count": 8,
   "id": "7740a4f2-ad37-4be2-8652-17d387910be0",
   "metadata": {},
   "outputs": [
    {
     "data": {
      "text/plain": [
       "latitude                              0\n",
       "longitude                             0\n",
       "price                                 0\n",
       "minimum_nights                        0\n",
       "number_of_reviews                     0\n",
       "calculated_host_listings_count        0\n",
       "availability_365                      0\n",
       "reviews_per_month                 10052\n",
       "dtype: int64"
      ]
     },
     "execution_count": 8,
     "metadata": {},
     "output_type": "execute_result"
    }
   ],
   "source": [
    "df.isna().sum()"
   ]
  },
  {
   "cell_type": "markdown",
   "id": "de322e68-fca7-46f3-ba15-5fcb5ceee746",
   "metadata": {
    "tags": []
   },
   "source": [
    "### Question 2\n",
    "\n",
    "**Median (50% percentile) for variable 'minimum_nights': 3.0**"
   ]
  },
  {
   "cell_type": "code",
   "execution_count": 9,
   "id": "3af958c5-0060-4afc-9693-439d7bd3ccf0",
   "metadata": {},
   "outputs": [
    {
     "data": {
      "text/plain": [
       "3.0"
      ]
     },
     "execution_count": 9,
     "metadata": {},
     "output_type": "execute_result"
    }
   ],
   "source": [
    "df.minimum_nights.quantile(.5)\n",
    "# df.minimum_nights.median()"
   ]
  },
  {
   "cell_type": "markdown",
   "id": "8ae1b7d2-b223-4587-b480-fe68bd36ec7a",
   "metadata": {},
   "source": [
    "### **Split the data**\n",
    "- Shuffle the initial dataset, use seed `42`\n",
    "- Split your data in train/val/test sets, with 60%/20%/20% distribution.\n",
    "- Make sure that the target value `price` is not in your dataframe.\n",
    "- Apply the log transformation to the price variable using the `np.log1p()` function."
   ]
  },
  {
   "cell_type": "code",
   "execution_count": 66,
   "id": "2bcde14d-3a76-4450-8725-51924144e621",
   "metadata": {},
   "outputs": [],
   "source": [
    "np.random.seed(42)\n",
    "\n",
    "n = len(df)\n",
    "\n",
    "n_val = int(.2 * n)\n",
    "n_test = int(.2 * n)\n",
    "n_train = n - (n_val + n_test)\n",
    "\n",
    "# shuffle indexes\n",
    "idx = np.arange(n)\n",
    "np.random.shuffle(idx)\n",
    "\n",
    "# shuffle data\n",
    "df_shuffled = df.iloc[idx]\n",
    "\n",
    "# create shuffled data with 60%/20%/20% distribution\n",
    "df_train = df_shuffled.iloc[:n_train].copy()\n",
    "df_val = df_shuffled.iloc[n_train:n_train+n_val].copy()\n",
    "df_test = df_shuffled.iloc[n_train+n_val:].copy()\n",
    "\n",
    "# take original prices as target values\n",
    "y_train_or = df_train.price.values\n",
    "y_val_or = df_val.price.values\n",
    "y_test_or = df_test.price.values\n",
    "\n",
    "# take target prices with log transformation\n",
    "y_train = np.log1p(df_train.price.values)\n",
    "y_val = np.log1p(df_val.price.values)\n",
    "y_test = np.log1p(df_test.price.values)\n",
    "\n",
    "# delete target values in dataset\n",
    "del df_train[\"price\"]\n",
    "del df_val[\"price\"]\n",
    "del df_test[\"price\"]"
   ]
  },
  {
   "cell_type": "markdown",
   "id": "58310d26-15f0-4516-b857-a4143a522da8",
   "metadata": {},
   "source": [
    "### Question 3\n",
    "- We need to deal with missing values for the column from Q1. `reviews_per_month`\n",
    "- We have two options: fill it with 0 or with the mean of this variable.\n",
    "- Try both options. For each, train a linear regression model without regularization using the code from the lessons.\n",
    "- For computing the mean, use the training only!\n",
    "- Use the validation dataset to evaluate the models and compare the RMSE of each option.\n",
    "- Round the RMSE scores to 2 decimal digits using round(score, 2)\n",
    "- Which option gives better RMSE?"
   ]
  },
  {
   "cell_type": "code",
   "execution_count": 67,
   "id": "a61dc521-bcae-4b8b-abc3-1edf08ab6f3d",
   "metadata": {},
   "outputs": [],
   "source": [
    "def train_linear_regression(X, y):\n",
    "    ones = np.ones(X.shape[0])\n",
    "    X = np.column_stack([ones, X])\n",
    "\n",
    "    XTX = X.T.dot(X)\n",
    "    XTX_inv = np.linalg.inv(XTX)\n",
    "    w = XTX_inv.dot(X.T).dot(y)\n",
    "    \n",
    "    return w[0], w[1:]"
   ]
  },
  {
   "cell_type": "code",
   "execution_count": 68,
   "id": "25bf41ea-1640-4400-9717-d1e82fda1fd2",
   "metadata": {},
   "outputs": [],
   "source": [
    "def rmse(y, y_pred):\n",
    "    error = y_pred - y\n",
    "    mse = (error ** 2).mean()\n",
    "    return np.sqrt(mse)"
   ]
  },
  {
   "cell_type": "code",
   "execution_count": 69,
   "id": "1b643184-c52c-4af8-8ca2-c0b783803138",
   "metadata": {},
   "outputs": [],
   "source": [
    "# filling with mean\n",
    "mean = df_train.reviews_per_month.mean()\n",
    "X_train = df_train.fillna(mean)\n",
    "w_0, w = train_linear_regression(X_train, y_train)"
   ]
  },
  {
   "cell_type": "code",
   "execution_count": 70,
   "id": "a2290fa7-d9ce-4d54-865a-a1bd7cc05418",
   "metadata": {},
   "outputs": [],
   "source": [
    "y_pred = w_0 + X_train.dot(w)"
   ]
  },
  {
   "cell_type": "code",
   "execution_count": 71,
   "id": "4369ff60-261d-4afe-bc78-4308b60bc028",
   "metadata": {},
   "outputs": [
    {
     "name": "stdout",
     "output_type": "stream",
     "text": [
      "RMSE (mean) 0.6429347474014242\n"
     ]
    }
   ],
   "source": [
    "print(\"RMSE (mean)\", rmse(y_train, y_pred))"
   ]
  },
  {
   "cell_type": "code",
   "execution_count": 72,
   "id": "6dafa71d-9b64-4e9f-8300-bd2569c79433",
   "metadata": {},
   "outputs": [
    {
     "data": {
      "text/plain": [
       "Text(0.5, 1.0, 'Predictions vs actual distribution')"
      ]
     },
     "execution_count": 72,
     "metadata": {},
     "output_type": "execute_result"
    },
    {
     "data": {
      "image/png": "[encoded data removed]",
      "text/plain": [
       "<Figure size 432x288 with 1 Axes>"
      ]
     },
     "metadata": {},
     "output_type": "display_data"
    }
   ],
   "source": [
    "sns.histplot(y_train, label='target', color='#222222', alpha=0.6, bins=40)\n",
    "sns.histplot(y_pred, label='prediction', color='#aaaaaa', alpha=0.8, bins=40)\n",
    "\n",
    "plt.legend()\n",
    "\n",
    "plt.ylabel('Frequency')\n",
    "plt.xlabel('Log(Price + 1)')\n",
    "plt.title('Predictions vs actual distribution')"
   ]
  },
  {
   "cell_type": "code",
   "execution_count": 73,
   "id": "c593aa84-df58-4f6a-813e-2b0734df44ed",
   "metadata": {},
   "outputs": [],
   "source": [
    "# filling with zeros\n",
    "X_train = df_train.fillna(0)\n",
    "w_0, w = train_linear_regression(X_train, y_train)\n",
    "\n",
    "y_pred = w_0 + X_train.dot(w)"
   ]
  },
  {
   "cell_type": "code",
   "execution_count": 74,
   "id": "af0c2f17-f6cf-4d98-8b02-fb54d7b3289b",
   "metadata": {},
   "outputs": [
    {
     "data": {
      "text/plain": [
       "Text(0.5, 1.0, 'Predictions vs actual distribution')"
      ]
     },
     "execution_count": 74,
     "metadata": {},
     "output_type": "execute_result"
    },
    {
     "data": {
      "image/png": "[encoded data removed]",
      "text/plain": [
       "<Figure size 432x288 with 1 Axes>"
      ]
     },
     "metadata": {},
     "output_type": "display_data"
    }
   ],
   "source": [
    "sns.histplot(y_train, label='target', color='#222222', alpha=0.6, bins=40)\n",
    "sns.histplot(y_pred_, label='prediction', color='#aaaaaa', alpha=0.8, bins=40)\n",
    "\n",
    "plt.legend()\n",
    "\n",
    "plt.ylabel('Frequency')\n",
    "plt.xlabel('Log(Price + 1)')\n",
    "plt.title('Predictions vs actual distribution')"
   ]
  },
  {
   "cell_type": "code",
   "execution_count": 75,
   "id": "bf054b82-3d4b-42d0-89d1-af0e6e636f7f",
   "metadata": {},
   "outputs": [
    {
     "name": "stdout",
     "output_type": "stream",
     "text": [
      "RMSE (zero) 0.6428860484860427\n"
     ]
    }
   ],
   "source": [
    "print(\"RMSE (zero)\", rmse(y_train, y_pred))"
   ]
  },
  {
   "cell_type": "markdown",
   "id": "d59090db-8eb7-4e93-a16e-cb38fba8b8d7",
   "metadata": {},
   "source": [
    "### Question 4\n",
    "- Now let's train a regularized linear regression.\n",
    "- For this question, fill the NAs with 0.\n",
    "- Try different values of r from this list: [0, 0.000001, 0.0001, 0.001, 0.01, 0.1, 1, 5, 10].\n",
    "- Use RMSE to evaluate the model on the validation dataset.\n",
    "- Round the RMSE scores to 2 decimal digits.\n",
    "- Which r gives the best RMSE?"
   ]
  },
  {
   "cell_type": "code",
   "execution_count": 76,
   "id": "e9da7a72-61e6-4291-8515-13130173fae7",
   "metadata": {},
   "outputs": [],
   "source": [
    "def train_linear_regression_reg(X, y, r=0.0):\n",
    "    ones = np.ones(X.shape[0])\n",
    "    X = np.column_stack([ones, X])\n",
    "\n",
    "    XTX = X.T.dot(X)\n",
    "    reg = r * np.eye(XTX.shape[0])\n",
    "    XTX = XTX + reg\n",
    "\n",
    "    XTX_inv = np.linalg.inv(XTX)\n",
    "    w = XTX_inv.dot(X.T).dot(y)\n",
    "    \n",
    "    return w[0], w[1:]"
   ]
  },
  {
   "cell_type": "code",
   "execution_count": 77,
   "id": "8ba45af2-5954-4b79-8a1f-753606d7d6ac",
   "metadata": {},
   "outputs": [],
   "source": [
    "X_train = df_train.fillna(0)\n",
    "X_val = df_val.fillna(0)"
   ]
  },
  {
   "cell_type": "code",
   "execution_count": 78,
   "id": "3dd73b4a-60d0-4923-80af-8aa4d632cf9e",
   "metadata": {},
   "outputs": [
    {
     "name": "stdout",
     "output_type": "stream",
     "text": [
      "0 -419.91 1.3067622504813254 0.64\n",
      "1e-06 -419.86 1.306522654563991 0.64\n",
      "0.0001 -414.98 1.2830813170254225 0.64\n",
      "0.001 -375.27 1.092610335754387 0.64\n",
      "0.01 -191.78 0.21237489055880754 0.66\n",
      "0.1 -32.56 -0.5507404339957327 0.68\n",
      "1 -3.5 -0.6826028435303779 0.68\n",
      "5 -0.7 -0.6641702855277816 0.68\n",
      "10 -0.35 -0.6297755921941148 0.68\n"
     ]
    }
   ],
   "source": [
    "for r in [0, 0.000001, 0.0001, 0.001, 0.01, 0.1, 1, 5, 10]:\n",
    "    w_0, w = train_linear_regression_reg(X_train, y_train, r=r)\n",
    "    y_pred = w_0 + X_val.dot(w)\n",
    "    scores = rmse(y_val, y_pred)\n",
    "    print(r, round(w_0, 2), w[0], round(scores, 2))"
   ]
  },
  {
   "cell_type": "markdown",
   "id": "b1a31207-5ff2-4e00-95ec-20dc227bb8e4",
   "metadata": {},
   "source": [
    "### Question 5\n",
    "- We used seed 42 for splitting the data. Let's find out how selecting the seed influences our score.\n",
    "- Try different seed values: [0, 1, 2, 3, 4, 5, 6, 7, 8, 9].\n",
    "- For each seed, do the train/validation/test split with 60%/20%/20% distribution.\n",
    "- Fill the missing values with 0 and train a model without regularization.\n",
    "- For each seed, evaluate the model on the validation dataset and collect the RMSE scores.\n",
    "- What's the standard deviation of all the scores? To compute the standard deviation, use np.std.\n",
    "- Round the result to 3 decimal digits (round(std, 3))\n",
    "\n",
    "Note: Standard deviation shows how different the values are. If it's low, then all values are approximately the same. If it's high, the values are different. If standard deviation of scores is low, then our model is stable."
   ]
  },
  {
   "cell_type": "code",
   "execution_count": 79,
   "id": "f5814497-c614-47b2-b8da-ec3a05ab6791",
   "metadata": {},
   "outputs": [
    {
     "name": "stdout",
     "output_type": "stream",
     "text": [
      "Seed:  0\n",
      "0 -427.63 1.4163378003868696 0.65\n",
      "Seed:  0\n",
      "1e-06 -427.58 1.416089727438086 0.65\n",
      "Seed:  0\n",
      "0.0001 -422.53 1.3918229815399585 0.65\n",
      "Seed:  0\n",
      "0.001 -381.59 1.1949459297161324 0.66\n",
      "Seed:  0\n",
      "0.01 -193.79 0.2920044655265788 0.67\n",
      "Seed:  0\n",
      "0.1 -32.73 -0.481806845828362 0.69\n",
      "Seed:  0\n",
      "1 -3.51 -0.6155053411293323 0.69\n",
      "Seed:  0\n",
      "5 -0.71 -0.6004907209493262 0.69\n",
      "Seed:  0\n",
      "10 -0.35 -0.5698394011499937 0.69\n",
      "0.017\n",
      "Seed:  1\n",
      "0 -414.71 1.36604945721749 0.65\n",
      "Seed:  1\n",
      "1e-06 -414.66 1.3658166021114857 0.65\n",
      "Seed:  1\n",
      "0.0001 -409.88 1.3430324958361441 0.65\n",
      "Seed:  1\n",
      "0.001 -371.06 1.1576801807804245 0.65\n",
      "Seed:  1\n",
      "0.01 -190.57 0.29593877463686524 0.66\n",
      "Seed:  1\n",
      "0.1 -32.5 -0.4581635770181719 0.68\n",
      "Seed:  1\n",
      "1 -3.49 -0.5900709830291164 0.69\n",
      "Seed:  1\n",
      "5 -0.7 -0.5757776075321814 0.69\n",
      "Seed:  1\n",
      "10 -0.35 -0.5461370590209922 0.69\n",
      "0.018\n",
      "Seed:  2\n",
      "0 -423.25 1.2581926916343753 0.65\n",
      "Seed:  2\n",
      "1e-06 -423.2 1.2579551957865758 0.65\n",
      "Seed:  2\n",
      "0.0001 -418.3 1.2347182848383151 0.65\n",
      "Seed:  2\n",
      "0.001 -378.42 1.0458263307164557 0.65\n",
      "Seed:  2\n",
      "0.01 -193.74 0.1709878125155323 0.66\n",
      "Seed:  2\n",
      "0.1 -32.95 -0.5899485667329227 0.68\n",
      "Seed:  2\n",
      "1 -3.54 -0.7212342080859631 0.68\n",
      "Seed:  2\n",
      "5 -0.71 -0.7009373705555902 0.68\n",
      "Seed:  2\n",
      "10 -0.36 -0.6644569804811531 0.68\n",
      "0.017\n",
      "Seed:  3\n",
      "0 -421.89 1.3522319501380833 0.64\n",
      "Seed:  3\n",
      "1e-06 -421.84 1.3519956464679235 0.64\n",
      "Seed:  3\n",
      "0.0001 -417.0 1.3288732791340618 0.64\n",
      "Seed:  3\n",
      "0.001 -377.54 1.1407447300600597 0.64\n",
      "Seed:  3\n",
      "0.01 -194.0 0.26552545222369606 0.65\n",
      "Seed:  3\n",
      "0.1 -33.1 -0.5011073252561773 0.67\n",
      "Seed:  3\n",
      "1 -3.56 -0.6348730556553384 0.68\n",
      "Seed:  3\n",
      "5 -0.72 -0.6185987571770173 0.68\n",
      "Seed:  3\n",
      "10 -0.36 -0.5865066842957761 0.68\n",
      "0.018\n",
      "Seed:  4\n",
      "0 -422.06 1.3471167179979262 0.64\n",
      "Seed:  4\n",
      "1e-06 -422.01 1.3468754599995 0.64\n",
      "Seed:  4\n",
      "0.0001 -417.07 1.3232731828939037 0.64\n",
      "Seed:  4\n",
      "0.001 -376.94 1.1316255983276076 0.65\n",
      "Seed:  4\n",
      "0.01 -192.09 0.24897274083329973 0.66\n",
      "Seed:  4\n",
      "0.1 -32.54 -0.5122759484321758 0.68\n",
      "Seed:  4\n",
      "1 -3.49 -0.6438196807440708 0.68\n",
      "Seed:  4\n",
      "5 -0.7 -0.6271086226372825 0.68\n",
      "Seed:  4\n",
      "10 -0.35 -0.5947330532711246 0.68\n",
      "0.018\n",
      "Seed:  5\n",
      "0 -429.18 1.3477785224430319 0.63\n",
      "Seed:  5\n",
      "1e-06 -429.13 1.3475319498784402 0.63\n",
      "Seed:  5\n",
      "0.0001 -424.12 1.3234092458324618 0.63\n",
      "Seed:  5\n",
      "0.001 -383.41 1.1274736807080263 0.63\n",
      "Seed:  5\n",
      "0.01 -195.65 0.22364177643369837 0.64\n",
      "Seed:  5\n",
      "0.1 -33.18 -0.5577417081975641 0.66\n",
      "Seed:  5\n",
      "1 -3.56 -0.6926661967288551 0.67\n",
      "Seed:  5\n",
      "5 -0.72 -0.6742932017308335 0.67\n",
      "Seed:  5\n",
      "10 -0.36 -0.6396431144549549 0.67\n",
      "0.019\n",
      "Seed:  6\n",
      "0 -427.49 1.3577638302502317 0.63\n",
      "Seed:  6\n",
      "1e-06 -427.44 1.3575241617217095 0.63\n",
      "Seed:  6\n",
      "0.0001 -422.47 1.3340755165174838 0.63\n",
      "Seed:  6\n",
      "0.001 -382.1 1.1435171502513914 0.63\n",
      "Seed:  6\n",
      "0.01 -195.39 0.26222773687980006 0.64\n",
      "Seed:  6\n",
      "0.1 -33.19 -0.5027070444640483 0.66\n",
      "Seed:  6\n",
      "1 -3.57 -0.6354226058366355 0.67\n",
      "Seed:  6\n",
      "5 -0.72 -0.6189026891797277 0.67\n",
      "Seed:  6\n",
      "10 -0.36 -0.5866553478632154 0.67\n",
      "0.019\n",
      "Seed:  7\n",
      "0 -428.19 1.4886540582588352 0.65\n",
      "Seed:  7\n",
      "1e-06 -428.14 1.48840841191627 0.65\n",
      "Seed:  7\n",
      "0.0001 -423.08 1.4643796391917387 0.65\n",
      "Seed:  7\n",
      "0.001 -382.04 1.269455731221372 0.65\n",
      "Seed:  7\n",
      "0.01 -193.93 0.3759821601911708 0.66\n",
      "Seed:  7\n",
      "0.1 -32.74 -0.3891234357786807 0.68\n",
      "Seed:  7\n",
      "1 -3.51 -0.5221078013042993 0.69\n",
      "Seed:  7\n",
      "5 -0.71 -0.5109285957952632 0.69\n",
      "Seed:  7\n",
      "10 -0.35 -0.48479697583473935 0.69\n",
      "0.019\n",
      "Seed:  8\n",
      "0 -427.69 1.375843096457501 0.65\n",
      "Seed:  8\n",
      "1e-06 -427.64 1.375598735721928 0.65\n",
      "Seed:  8\n",
      "0.0001 -422.64 1.351692714606171 0.65\n",
      "Seed:  8\n",
      "0.001 -382.05 1.1575363965919108 0.65\n",
      "Seed:  8\n",
      "0.01 -194.87 0.26235490714461596 0.66\n",
      "Seed:  8\n",
      "0.1 -33.03 -0.5109920923708942 0.68\n",
      "Seed:  8\n",
      "1 -3.55 -0.6448007656734985 0.69\n",
      "Seed:  8\n",
      "5 -0.71 -0.6280458754673938 0.69\n",
      "Seed:  8\n",
      "10 -0.36 -0.5954163494793349 0.69\n",
      "0.019\n",
      "Seed:  9\n",
      "0 -426.98 1.4077234602655115 0.64\n",
      "Seed:  9\n",
      "1e-06 -426.93 1.407479209835413 0.64\n",
      "Seed:  9\n",
      "0.0001 -421.91 1.3835855150899494 0.64\n",
      "Seed:  9\n",
      "0.001 -381.19 1.1896439764269715 0.64\n",
      "Seed:  9\n",
      "0.01 -193.96 0.29808436918377357 0.65\n",
      "Seed:  9\n",
      "0.1 -32.81 -0.4687103124647817 0.68\n",
      "Seed:  9\n",
      "1 -3.52 -0.6015364310184576 0.68\n",
      "Seed:  9\n",
      "5 -0.71 -0.586984954951799 0.68\n",
      "Seed:  9\n",
      "10 -0.35 -0.5569577134923963 0.68\n",
      "0.019\n"
     ]
    }
   ],
   "source": [
    "scores = []\n",
    "for i in [0, 1, 2, 3, 4, 5, 6, 7, 8, 9]:\n",
    "    np.random.seed(i)\n",
    "\n",
    "    n = len(df)\n",
    "\n",
    "    n_val = int(0.2 * n)\n",
    "    n_test = int(0.2 * n)\n",
    "    n_train = n - (n_val + n_test)\n",
    "\n",
    "    idx = np.arange(n)\n",
    "    np.random.shuffle(idx)\n",
    "\n",
    "    df_shuffled = df.iloc[idx]\n",
    "\n",
    "    df_train = df_shuffled.iloc[:n_train].copy()\n",
    "    df_val = df_shuffled.iloc[n_train:n_train+n_val].copy()\n",
    "    df_test = df_shuffled.iloc[n_train+n_val:].copy()\n",
    "\n",
    "    y_train_orig = df_train.price.values\n",
    "    y_val_orig = df_val.price.values\n",
    "    y_test_orig = df_test.price.values\n",
    "\n",
    "    y_train = np.log1p(df_train.price.values)\n",
    "    y_val = np.log1p(df_val.price.values)\n",
    "    y_test = np.log1p(df_test.price.values)\n",
    "\n",
    "    del df_train['price']\n",
    "    del df_val['price']\n",
    "    del df_test['price']\n",
    "    \n",
    "    X_train = df_train.fillna(0)\n",
    "    X_val = df_val.fillna(0)\n",
    "\n",
    "    for r in [0, 0.000001, 0.0001, 0.001, 0.01, 0.1, 1, 5, 10]:\n",
    "        w_0, w = train_linear_regression_reg(X_train, y_train, r=r)\n",
    "        y_pred = w_0 + X_val.dot(w)\n",
    "        score = rmse(y_val, y_pred)\n",
    "        print(\"Seed: \", i)\n",
    "        scores.append(score)\n",
    "        print(r, round(w_0, 2), w[0], round(score, 2))\n",
    "    std = np.std(scores)\n",
    "    print(round(std, 3))"
   ]
  },
  {
   "cell_type": "markdown",
   "id": "4fe7a14b-7cdf-4181-8e6b-6b61149de2b4",
   "metadata": {},
   "source": [
    "### Question 6\n",
    "- Split the dataset like previously, use seed 9.\n",
    "- Combine train and validation datasets.\n",
    "- Fill the missing values with 0 and train a model with r=0.001.\n",
    "- What's the RMSE on the test dataset?"
   ]
  },
  {
   "cell_type": "code",
   "execution_count": 86,
   "id": "197d4cd4-3089-4b25-ba1c-8f1cdcc99909",
   "metadata": {},
   "outputs": [
    {
     "name": "stdout",
     "output_type": "stream",
     "text": [
      "0.6454512122425065\n"
     ]
    }
   ],
   "source": [
    "np.random.seed(9)\n",
    "\n",
    "n = len(df)\n",
    "\n",
    "n_val = int(0.2 * n)\n",
    "n_test = int(0.2 * n)\n",
    "n_train = n - (n_val + n_test)\n",
    "\n",
    "idx = np.arange(n)\n",
    "np.random.shuffle(idx)\n",
    "\n",
    "df_shuffled = df.iloc[idx]\n",
    "\n",
    "df_train = df_shuffled.iloc[:n_train].copy()\n",
    "df_val = df_shuffled.iloc[n_train:n_train+n_val].copy()\n",
    "df_test = df_shuffled.iloc[n_train+n_val:].copy()\n",
    "\n",
    "y_train_orig = df_train.price.values\n",
    "y_val_orig = df_val.price.values\n",
    "y_test_orig = df_test.price.values\n",
    "\n",
    "y_train = np.log1p(df_train.price.values)\n",
    "y_val = np.log1p(df_val.price.values)\n",
    "y_test = np.log1p(df_test.price.values)\n",
    "\n",
    "del df_train['price']\n",
    "del df_val['price']\n",
    "del df_test['price']\n",
    "\n",
    "X_train = df_train.fillna(0)\n",
    "X_test = df_test.fillna(0)\n",
    "w_0, w = train_linear_regression_reg(X_train, y_train, r=.001)\n",
    "y_pred = w_0 + X_test.dot(w)\n",
    "score = rmse(y_test, y_pred)\n",
    "print(score)"
   ]
  }
 ],
 "metadata": {
  "kernelspec": {
   "display_name": "Python 3 (ipykernel)",
   "language": "python",
   "name": "python3"
  },
  "language_info": {
   "codemirror_mode": {
    "name": "ipython",
    "version": 3
   },
   "file_extension": ".py",
   "mimetype": "text/x-python",
   "name": "python",
   "nbconvert_exporter": "python",
   "pygments_lexer": "ipython3",
   "version": "3.8.10"
  }
 },
 "nbformat": 4,
 "nbformat_minor": 5
}
